{
 "cells": [
  {
   "cell_type": "markdown",
   "metadata": {},
   "source": [
    "# examine the data\n",
    "First examine the data by loading it in with the %Load command\n",
    "It will fill in the block with the content of the file in the block and comment out the %Load command"
   ]
  },
  {
   "cell_type": "code",
   "execution_count": null,
   "metadata": {
    "collapsed": true
   },
   "outputs": [],
   "source": [
    "%load data/numbers.txt\n"
   ]
  },
  {
   "cell_type": "markdown",
   "metadata": {},
   "source": [
    "# examine the sorting code \n",
    "Do not run the block a second time"
   ]
  },
  {
   "cell_type": "code",
   "execution_count": null,
   "metadata": {
    "collapsed": true
   },
   "outputs": [],
   "source": [
    "# %load code/MRSortByString.py\n",
    "from mrjob.job import MRJob\n",
    "\n",
    "class MRSortByString(MRJob):\n",
    "    def mapper(self, _, line):\n",
    "        \"\"\"\n",
    "        \"\"\"\n",
    "        l = line.split(' ')\n",
    "        print l\n",
    "        yield l[1], l[0]\n",
    "\n",
    "    def reducer(self, key, val):\n",
    "        yield key, [v for v in val][0]\n",
    "\n",
    "\n",
    "if __name__ == '__main__':\n",
    "    MRSortByString.run()"
   ]
  },
  {
   "cell_type": "code",
   "execution_count": 5,
   "metadata": {},
   "outputs": [
    {
     "name": "stderr",
     "output_type": "stream",
     "text": [
      "no configs found; falling back on auto-configuration\n",
      "no configs found; falling back on auto-configuration\n",
      "creating tmp directory c:\\cygwin64\\tmp\\MRSortByString.PS.20171002.015754.754000\n",
      "\n",
      "PLEASE NOTE: Starting in mrjob v0.5.0, protocols will be strict by default. It's recommended you run your job with --strict-protocols or set up mrjob.conf as described at https://pythonhosted.org/mrjob/whats-new.html#ready-for-strict-protocols\n",
      "\n",
      "writing to c:\\cygwin64\\tmp\\MRSortByString.PS.20171002.015754.754000\\step-0-mapper_part-00000\n",
      "Counters from step 1:\n",
      "  (no counters found)\n",
      "writing to c:\\cygwin64\\tmp\\MRSortByString.PS.20171002.015754.754000\\step-0-mapper-sorted\n",
      "> sort 'c:\\cygwin64\\tmp\\MRSortByString.PS.20171002.015754.754000\\step-0-mapper_part-00000'\n",
      "writing to c:\\cygwin64\\tmp\\MRSortByString.PS.20171002.015754.754000\\step-0-reducer_part-00000\n",
      "Counters from step 1:\n",
      "  (no counters found)\n",
      "Moving c:\\cygwin64\\tmp\\MRSortByString.PS.20171002.015754.754000\\step-0-reducer_part-00000 -> c:\\cygwin64\\tmp\\MRSortByString.PS.20171002.015754.754000\\output\\part-00000\n",
      "Streaming final output from c:\\cygwin64\\tmp\\MRSortByString.PS.20171002.015754.754000\\output\n"
     ]
    },
    {
     "name": "stdout",
     "output_type": "stream",
     "text": [
      "['1', '10']\n",
      "['2', '11']\n",
      "['3', '3']\n",
      "['4', '12']\n",
      "['5', '4']\n",
      "['6', '1']\n",
      "['7', '1']\n",
      "['8', '41']\n",
      "['9', '532']\n",
      "['10', '2']\n",
      "['11', '0']\n",
      "\"0\"\t\"11\"\n",
      "\"1\"\t\"6\"\n",
      "\"10\"\t\"1\"\n",
      "\"11\"\t\"2\"\n",
      "\"12\"\t\"4\"\n",
      "\"2\"\t\"10\"\n",
      "\"3\"\t\"3\"\n",
      "\"4\"\t\"5\"\n",
      "\"41\"\t\"8\"\n",
      "\"532\"\t\"9\"\n"
     ]
    },
    {
     "name": "stderr",
     "output_type": "stream",
     "text": [
      "removing tmp directory c:\\cygwin64\\tmp\\MRSortByString.PS.20171002.015754.754000\n"
     ]
    }
   ],
   "source": [
    "%run   code/MRSortByString.py data/numbers.txt"
   ]
  },
  {
   "cell_type": "markdown",
   "metadata": {},
   "source": [
    "\n",
    "How were they sorted?"
   ]
  },
  {
   "cell_type": "code",
   "execution_count": null,
   "metadata": {
    "collapsed": true
   },
   "outputs": [],
   "source": [
    "# %load code/MRSortByInt.py\n",
    "from mrjob.job import MRJob\n",
    "\n",
    "class MRSortByInt(MRJob):\n",
    "    def mapper(self, _, line):\n",
    "        \"\"\"\n",
    "        \"\"\"\n",
    "        l = line.strip('\\n').split()\n",
    "        yield '%01d'%int(l[1]), l[0]\n",
    "\n",
    "    def reducer(self, key, val):\n",
    "        yield int(key), int(list(val)[0])\n",
    "\n",
    "\n",
    "if __name__ == '__main__':\n",
    "    MRSortByInt.run()"
   ]
  },
  {
   "cell_type": "code",
   "execution_count": 11,
   "metadata": {},
   "outputs": [
    {
     "name": "stderr",
     "output_type": "stream",
     "text": [
      "no configs found; falling back on auto-configuration\n",
      "no configs found; falling back on auto-configuration\n",
      "no configs found; falling back on auto-configuration\n",
      "no configs found; falling back on auto-configuration\n",
      "creating tmp directory c:\\cygwin64\\tmp\\MRSortByInt.PS.20171002.020226.416000\n",
      "creating tmp directory c:\\cygwin64\\tmp\\MRSortByInt.PS.20171002.020226.416000\n",
      "\n",
      "\n",
      "PLEASE NOTE: Starting in mrjob v0.5.0, protocols will be strict by default. It's recommended you run your job with --strict-protocols or set up mrjob.conf as described at https://pythonhosted.org/mrjob/whats-new.html#ready-for-strict-protocols\n",
      "PLEASE NOTE: Starting in mrjob v0.5.0, protocols will be strict by default. It's recommended you run your job with --strict-protocols or set up mrjob.conf as described at https://pythonhosted.org/mrjob/whats-new.html#ready-for-strict-protocols\n",
      "\n",
      "\n",
      "writing to c:\\cygwin64\\tmp\\MRSortByInt.PS.20171002.020226.416000\\step-0-mapper_part-00000\n",
      "writing to c:\\cygwin64\\tmp\\MRSortByInt.PS.20171002.020226.416000\\step-0-mapper_part-00000\n",
      "Counters from step 1:\n",
      "Counters from step 1:\n",
      "  (no counters found)\n",
      "  (no counters found)\n",
      "writing to c:\\cygwin64\\tmp\\MRSortByInt.PS.20171002.020226.416000\\step-0-mapper-sorted\n",
      "writing to c:\\cygwin64\\tmp\\MRSortByInt.PS.20171002.020226.416000\\step-0-mapper-sorted\n",
      "> sort 'c:\\cygwin64\\tmp\\MRSortByInt.PS.20171002.020226.416000\\step-0-mapper_part-00000'\n",
      "> sort 'c:\\cygwin64\\tmp\\MRSortByInt.PS.20171002.020226.416000\\step-0-mapper_part-00000'\n",
      "writing to c:\\cygwin64\\tmp\\MRSortByInt.PS.20171002.020226.416000\\step-0-reducer_part-00000\n",
      "writing to c:\\cygwin64\\tmp\\MRSortByInt.PS.20171002.020226.416000\\step-0-reducer_part-00000\n",
      "Counters from step 1:\n",
      "Counters from step 1:\n",
      "  (no counters found)\n",
      "  (no counters found)\n",
      "Moving c:\\cygwin64\\tmp\\MRSortByInt.PS.20171002.020226.416000\\step-0-reducer_part-00000 -> c:\\cygwin64\\tmp\\MRSortByInt.PS.20171002.020226.416000\\output\\part-00000\n",
      "Moving c:\\cygwin64\\tmp\\MRSortByInt.PS.20171002.020226.416000\\step-0-reducer_part-00000 -> c:\\cygwin64\\tmp\\MRSortByInt.PS.20171002.020226.416000\\output\\part-00000\n",
      "Streaming final output from c:\\cygwin64\\tmp\\MRSortByInt.PS.20171002.020226.416000\\output\n",
      "Streaming final output from c:\\cygwin64\\tmp\\MRSortByInt.PS.20171002.020226.416000\\output\n"
     ]
    },
    {
     "name": "stdout",
     "output_type": "stream",
     "text": [
      "0\t11\n",
      "1\t6\n",
      "10\t1\n",
      "11\t2\n",
      "12\t4\n",
      "2\t10\n",
      "3\t3\n",
      "4\t5\n",
      "41\t8\n",
      "532\t9\n"
     ]
    },
    {
     "name": "stderr",
     "output_type": "stream",
     "text": [
      "removing tmp directory c:\\cygwin64\\tmp\\MRSortByInt.PS.20171002.020226.416000\n",
      "removing tmp directory c:\\cygwin64\\tmp\\MRSortByInt.PS.20171002.020226.416000\n"
     ]
    }
   ],
   "source": [
    "%run code/MRSortByInt.py data/numbers.txt"
   ]
  },
  {
   "cell_type": "code",
   "execution_count": 36,
   "metadata": {},
   "outputs": [
    {
     "name": "stdout",
     "output_type": "stream",
     "text": [
      "Writing data/sortdata.txt\n"
     ]
    }
   ],
   "source": [
    "%%writefile data/sortdata.txt\n",
    "1 1\n",
    "2 4\n",
    "3 8\n",
    "4 2\n",
    "4 7\n",
    "5 5\n",
    "6 10\n",
    "7 11"
   ]
  },
  {
   "cell_type": "code",
   "execution_count": 39,
   "metadata": {
    "collapsed": true
   },
   "outputs": [],
   "source": [
    "# Running code inline example"
   ]
  },
  {
   "cell_type": "code",
   "execution_count": 38,
   "metadata": {},
   "outputs": [
    {
     "name": "stderr",
     "output_type": "stream",
     "text": [
      "no configs found; falling back on auto-configuration\n",
      "no configs found; falling back on auto-configuration\n",
      "no configs found; falling back on auto-configuration\n",
      "no configs found; falling back on auto-configuration\n",
      "creating tmp directory c:\\cygwin64\\tmp\\MRSortByString.PS.20171002.023747.748000\n",
      "creating tmp directory c:\\cygwin64\\tmp\\MRSortByString.PS.20171002.023747.748000\n",
      "\n",
      "\n",
      "PLEASE NOTE: Starting in mrjob v0.5.0, protocols will be strict by default. It's recommended you run your job with --strict-protocols or set up mrjob.conf as described at https://pythonhosted.org/mrjob/whats-new.html#ready-for-strict-protocols\n",
      "PLEASE NOTE: Starting in mrjob v0.5.0, protocols will be strict by default. It's recommended you run your job with --strict-protocols or set up mrjob.conf as described at https://pythonhosted.org/mrjob/whats-new.html#ready-for-strict-protocols\n",
      "\n",
      "\n",
      "writing to c:\\cygwin64\\tmp\\MRSortByString.PS.20171002.023747.748000\\step-0-mapper_part-00000\n",
      "writing to c:\\cygwin64\\tmp\\MRSortByString.PS.20171002.023747.748000\\step-0-mapper_part-00000\n",
      "Counters from step 1:\n",
      "Counters from step 1:\n",
      "  (no counters found)\n",
      "  (no counters found)\n",
      "writing to c:\\cygwin64\\tmp\\MRSortByString.PS.20171002.023747.748000\\step-0-mapper-sorted\n",
      "writing to c:\\cygwin64\\tmp\\MRSortByString.PS.20171002.023747.748000\\step-0-mapper-sorted\n",
      "> sort 'c:\\cygwin64\\tmp\\MRSortByString.PS.20171002.023747.748000\\step-0-mapper_part-00000'\n",
      "> sort 'c:\\cygwin64\\tmp\\MRSortByString.PS.20171002.023747.748000\\step-0-mapper_part-00000'\n",
      "writing to c:\\cygwin64\\tmp\\MRSortByString.PS.20171002.023747.748000\\step-0-reducer_part-00000\n",
      "writing to c:\\cygwin64\\tmp\\MRSortByString.PS.20171002.023747.748000\\step-0-reducer_part-00000\n",
      "Counters from step 1:\n",
      "Counters from step 1:\n",
      "  (no counters found)\n",
      "  (no counters found)\n",
      "Moving c:\\cygwin64\\tmp\\MRSortByString.PS.20171002.023747.748000\\step-0-reducer_part-00000 -> c:\\cygwin64\\tmp\\MRSortByString.PS.20171002.023747.748000\\output\\part-00000\n",
      "Moving c:\\cygwin64\\tmp\\MRSortByString.PS.20171002.023747.748000\\step-0-reducer_part-00000 -> c:\\cygwin64\\tmp\\MRSortByString.PS.20171002.023747.748000\\output\\part-00000\n",
      "Streaming final output from c:\\cygwin64\\tmp\\MRSortByString.PS.20171002.023747.748000\\output\n",
      "Streaming final output from c:\\cygwin64\\tmp\\MRSortByString.PS.20171002.023747.748000\\output\n"
     ]
    },
    {
     "name": "stdout",
     "output_type": "stream",
     "text": [
      "starting MRSortByString job on local\n",
      "['1', '1']\n",
      "['2', '4']\n",
      "['3', '8']\n",
      "['4', '2']\n",
      "['4', '7']\n",
      "['5', '5']\n",
      "['6', '10']\n",
      "['7', '11']\n",
      "finished MRSortByString job\n",
      "Sorting sortdata.txt\n",
      "1: 1 \n",
      "10: 6 \n",
      "11: 7 \n",
      "2: 4 \n",
      "4: 2 \n",
      "5: 5 \n",
      "7: 4 \n",
      "8: 3 \n"
     ]
    }
   ],
   "source": [
    "# -*- coding: utf-8 -*-\n",
    "# Testing word frequency count\n",
    "import os, sys\n",
    "sys.path.append(os.path.join(os.getcwd(),\"code\"))\n",
    "from MRSortByString import *\n",
    "from mrjob.job import MRJob\n",
    "'''\n",
    "This is a simple wrapper that runs mrjob MapReduce jobs, the inputs are:\n",
    "MRJobClass - the class of the job to be run\n",
    "argsArr - an array of strings to be used when creating the MRJob.\n",
    "@author: Peter Harrington  if you have any questions: peter.b.harrington@gmail.com\n",
    "'''\n",
    "def runJob(MRJobClass, argsArr, loc='local'):\n",
    "    if loc == 'emr': \n",
    "        argsArr.extend(['-r', 'emr'])\n",
    "    print \"starting %s job on %s\" % (MRJobClass.__name__, loc)\n",
    "    mrJob = MRJobClass(args=argsArr)\n",
    "    runner = mrJob.make_runner()\n",
    "    runner.run()\n",
    "    print \"finished %s job\" % MRJobClass.__name__\n",
    "    return mrJob, runner\n",
    "    \n",
    "def runParallelJob(MRJobClass, argsArr):            #TO DO: add threading to allow jobs to run in \n",
    "    pass                                                #parallel \n",
    "    #launch a new thread\n",
    "    #call runJob(MRJobClass, argsArr) on the new thread\n",
    "\n",
    "if __name__ == '__main__':\n",
    "# pass in file from outside\n",
    "#    MRWordFrequencyCount.run()\n",
    "#setup file here\n",
    "    mr_job, runner = runJob(MRSortByString,[os.path.join(os.path.join(os.getcwd(),\"data\"),\"sortdata.txt\")],\"local\")\n",
    "    print \"Sorting sortdata.txt\"\n",
    "    for line in runner.stream_output(): \n",
    "        key, value = mr_job.parse_output_line(line)\n",
    "        print \"%s: %s \"%(key,value)"
   ]
  },
  {
   "cell_type": "markdown",
   "metadata": {},
   "source": [
    "Note the second column is reported by their string values"
   ]
  }
 ],
 "metadata": {
  "kernelspec": {
   "display_name": "Python 2",
   "language": "python",
   "name": "python2"
  },
  "language_info": {
   "codemirror_mode": {
    "name": "ipython",
    "version": 2
   },
   "file_extension": ".py",
   "mimetype": "text/x-python",
   "name": "python",
   "nbconvert_exporter": "python",
   "pygments_lexer": "ipython2",
   "version": "2.7.13"
  }
 },
 "nbformat": 4,
 "nbformat_minor": 1
}
