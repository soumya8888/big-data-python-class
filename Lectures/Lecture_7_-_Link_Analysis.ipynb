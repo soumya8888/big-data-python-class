{
 "cells": [
  {
   "cell_type": "markdown",
   "metadata": {},
   "source": [
    "#Link Analysis\n",
    "Need to collect data from the net\n",
    "\n",
    "## Simple Spiders \n",
    "Tools to collect links from the internet. We will use a simple tool called Scrappy.\n",
    "http://doc.scrapy.org/\n",
    "\n",
    "pip install Scrapy\n",
    "\n",
    "Starting a tutorial project in the code directory:\n",
    "http://doc.scrapy.org/en/latest/intro/tutorial.html\n",
    "\n",
    "mkdir code\n",
    "cd code\n",
    "scrapy startproject tutorial\n",
    "cd tutorial\n",
    "scrapy  genspider  example example.com"
   ]
  },
  {
   "cell_type": "code",
   "execution_count": 1,
   "metadata": {},
   "outputs": [
    {
     "name": "stdout",
     "output_type": "stream",
     "text": [
      "code/tutorial:\n",
      "total 5\n",
      "-rwxrwxr-x+ 1 PS None   0 Nov  1 21:59 dmoz_crawl_results.txt\n",
      "-rwxrwxr-x+ 1 PS None 260 Nov  1 21:33 scrapy.cfg\n",
      "drwxrwxr-x+ 1 PS None   0 Nov  1 21:47 tutorial\n",
      "\n",
      "code/tutorial/tutorial:\n",
      "total 13\n",
      "-rwxrwxr-x+ 1 PS None    0 Nov  1 20:56 __init__.py\n",
      "-rwxrwxr-x+ 1 PS None  184 Nov  1 21:35 __init__.pyc\n",
      "-rwxrwxr-x+ 1 PS None  475 Nov  1 21:47 items.py\n",
      "-rwxrwxr-x+ 1 PS None  287 Nov  1 21:33 items.py~\n",
      "-rwxrwxr-x+ 1 PS None  288 Nov  1 21:33 pipelines.py\n",
      "-rwxrwxr-x+ 1 PS None 3004 Nov  1 21:33 settings.py\n",
      "-rwxrwxr-x+ 1 PS None  296 Nov  1 21:35 settings.pyc\n",
      "drwxrwxr-x+ 1 PS None    0 Nov  1 21:56 spiders\n",
      "\n",
      "code/tutorial/tutorial/spiders:\n",
      "total 13\n",
      "-rwxrwxr-x+ 1 PS None 161 Nov  1 20:56 __init__.py\n",
      "-rwxrwxr-x+ 1 PS None 192 Nov  1 21:35 __init__.pyc\n",
      "-rw-rwxr--+ 1 PS None 333 Nov  1 21:56 dmoz_spider.py\n",
      "-rw-rwxr--+ 1 PS None 402 Nov  1 21:49 dmoz_spider.py~\n",
      "-rwxrwxr-x+ 1 PS None 999 Nov  1 21:56 dmoz_spider.pyc\n",
      "-rwxrwxr-x+ 1 PS None 240 Nov  1 21:35 example.py\n",
      "-rwxrwxr-x+ 1 PS None 866 Nov  1 21:56 example.pyc\n"
     ]
    }
   ],
   "source": [
    "!ls -Rl code/tutorial"
   ]
  },
  {
   "cell_type": "code",
   "execution_count": null,
   "metadata": {},
   "outputs": [],
   "source": [
    "# %load code/tutorial/tutorial/items.py\n",
    "\n",
    "# Define here the models for your scraped items\n",
    "#\n",
    "# See documentation in:\n",
    "# http://doc.scrapy.org/en/latest/topics/items.html\n",
    "\n",
    "import scrapy\n",
    "\n",
    "\n",
    "class TutorialItem(scrapy.Item):\n",
    "    # define the fields for your item here like:\n",
    "    # name = scrapy.Field()\n",
    "    pass\n",
    "\n",
    "## Adding container to hold scraped data using scrapy.Item as the parent class\n",
    "class DmozItem(scrapy.Item):\n",
    "    title = scrapy.Field()\n",
    "    link = scrapy.Field()\n",
    "    desc = scrapy.Field()\n"
   ]
  },
  {
   "cell_type": "markdown",
   "metadata": {},
   "source": [
    "## Creating first spider\n",
    "create a file in the spider directory.\n",
    "Set the name, start_urls, parse fuction"
   ]
  },
  {
   "cell_type": "code",
   "execution_count": null,
   "metadata": {},
   "outputs": [],
   "source": [
    "# %load code/tutorial/tutorial/spiders/dmoz_spider.py\n",
    "import scrapy\n",
    "\n",
    "class DmozSpider(scrapy.Spider):\n",
    "    name = \"dmoz\"\n",
    "    allowed_domains = [\"dmoz.org\"]\n",
    "    start_urls = [\"http://www.dmoz.org/Computers/Programming/Languages/Python/Books/\",\"http://www.dmoz.org/Computers/Programming/Languages/Python/Resources/\"]\n",
    "\n",
    "    def parse(self, response):\n",
    "                  f.write(response.body)\n"
   ]
  },
  {
   "cell_type": "code",
   "execution_count": 4,
   "metadata": {},
   "outputs": [
    {
     "name": "stdout",
     "output_type": "stream",
     "text": [
      "C:\\users\\ps\\My Documents\\GitHub\\big-data-python-class\\Lectures\\code\\tutorial\n"
     ]
    }
   ],
   "source": [
    "cd code/tutorial "
   ]
  },
  {
   "cell_type": "code",
   "execution_count": 1,
   "metadata": {
    "collapsed": true
   },
   "outputs": [],
   "source": [
    "import requests\n",
    "from scrapy.http import TextResponse\n",
    "\n",
    "#running scrappy to get a response from a URL\n",
    "r = requests.get('http://stackoverflow.com/')\n",
    "response = TextResponse(r.url, body=r.text, encoding='utf-8')"
   ]
  },
  {
   "cell_type": "code",
   "execution_count": 2,
   "metadata": {},
   "outputs": [
    {
     "name": "stdout",
     "output_type": "stream",
     "text": [
      "<200 http://stackoverflow.com/>\n"
     ]
    }
   ],
   "source": [
    "print response"
   ]
  },
  {
   "cell_type": "code",
   "execution_count": 3,
   "metadata": {},
   "outputs": [
    {
     "data": {
      "text/plain": [
       "[<Selector xpath='//title' data=u'<title>Stack Overflow</title>'>]"
      ]
     },
     "execution_count": 3,
     "metadata": {},
     "output_type": "execute_result"
    }
   ],
   "source": [
    "#Using xpath to access data\n",
    "response.xpath('//title')"
   ]
  },
  {
   "cell_type": "code",
   "execution_count": 4,
   "metadata": {},
   "outputs": [
    {
     "data": {
      "text/plain": [
       "[u'Stack Overflow']"
      ]
     },
     "execution_count": 4,
     "metadata": {},
     "output_type": "execute_result"
    }
   ],
   "source": [
    " response.xpath('//title/text()').extract()"
   ]
  },
  {
   "cell_type": "code",
   "execution_count": 5,
   "metadata": {},
   "outputs": [
    {
     "data": {
      "text/plain": [
       "[<Selector xpath='//ul/li' data=u'<li>\\r\\n                        <div class'>,\n",
       " <Selector xpath='//ul/li' data=u'<li class=\"related-site\">\\r\\n             '>,\n",
       " <Selector xpath='//ul/li' data=u'<li class=\"related-site\">\\r\\n             '>,\n",
       " <Selector xpath='//ul/li' data=u'<li>\\r\\n                        <a href=\"/'>,\n",
       " <Selector xpath='//ul/li' data=u'<li>\\r\\n                    <a href=\"/help'>,\n",
       " <Selector xpath='//ul/li' data=u'<li>\\r\\n                        <a href=\"/'>,\n",
       " <Selector xpath='//ul/li' data=u'<li><a id=\"nav-questions\" href=\"/questio'>,\n",
       " <Selector xpath='//ul/li' data=u'<li><a id=\"nav-tags\" href=\"/tags\">Tags</'>,\n",
       " <Selector xpath='//ul/li' data=u'<li><a id=\"nav-users\" href=\"/users\">User'>,\n",
       " <Selector xpath='//ul/li' data=u'<li><a id=\"nav-badges\" href=\"/help/badge'>,\n",
       " <Selector xpath='//ul/li' data=u'<li><a id=\"nav-unanswered\" href=\"/unansw'>,\n",
       " <Selector xpath='//ul/li' data=u'<li>\\r\\n                            <a id='>,\n",
       " <Selector xpath='//ul/li' data=u'<li>\\r\\n                <div class=\"favico'>,\n",
       " <Selector xpath='//ul/li' data=u'<li>\\r\\n                <div class=\"favico'>,\n",
       " <Selector xpath='//ul/li' data=u'<li>\\r\\n                <div class=\"favico'>,\n",
       " <Selector xpath='//ul/li' data=u'<li>\\r\\n                <div class=\"favico'>,\n",
       " <Selector xpath='//ul/li' data=u'<li>\\r\\n                <div class=\"favico'>,\n",
       " <Selector xpath='//ul/li' data=u'<li>\\r\\n                <div class=\"favico'>,\n",
       " <Selector xpath='//ul/li' data=u'<li>\\r\\n                <div class=\"favico'>,\n",
       " <Selector xpath='//ul/li' data=u'<li>\\r\\n                <div class=\"favico'>,\n",
       " <Selector xpath='//ul/li' data=u'<li>\\r\\n                <div class=\"favico'>,\n",
       " <Selector xpath='//ul/li' data=u'<li>\\r\\n                <div class=\"favico'>,\n",
       " <Selector xpath='//ul/li' data=u'<li>\\r\\n                <div class=\"favico'>,\n",
       " <Selector xpath='//ul/li' data=u'<li>\\r\\n                <div class=\"favico'>,\n",
       " <Selector xpath='//ul/li' data=u'<li class=\"dno js-hidden\">\\r\\n            '>,\n",
       " <Selector xpath='//ul/li' data=u'<li class=\"dno js-hidden\">\\r\\n            '>,\n",
       " <Selector xpath='//ul/li' data=u'<li class=\"dno js-hidden\">\\r\\n            '>,\n",
       " <Selector xpath='//ul/li' data=u'<li class=\"dno js-hidden\">\\r\\n            '>,\n",
       " <Selector xpath='//ul/li' data=u'<li class=\"dno js-hidden\">\\r\\n            '>,\n",
       " <Selector xpath='//ul/li' data=u'<li class=\"dno js-hidden\">\\r\\n            '>,\n",
       " <Selector xpath='//ul/li' data=u'<li class=\"dno js-hidden\">\\r\\n            '>,\n",
       " <Selector xpath='//ul/li' data=u'<li class=\"dno js-hidden\">\\r\\n            '>,\n",
       " <Selector xpath='//ul/li' data=u'<li class=\"dno js-hidden\">\\r\\n            '>,\n",
       " <Selector xpath='//ul/li' data=u'<li class=\"dno js-hidden\">\\r\\n            '>,\n",
       " <Selector xpath='//ul/li' data=u'<li class=\"dno js-hidden\">\\r\\n            '>,\n",
       " <Selector xpath='//ul/li' data=u'<li class=\"dno js-hidden\">\\r\\n            '>]"
      ]
     },
     "execution_count": 5,
     "metadata": {},
     "output_type": "execute_result"
    }
   ],
   "source": [
    "response.xpath('//ul/li')"
   ]
  },
  {
   "cell_type": "code",
   "execution_count": 6,
   "metadata": {},
   "outputs": [
    {
     "data": {
      "text/plain": [
       "[u'//stackoverflow.com',\n",
       " u'http://meta.stackoverflow.com',\n",
       " u'//careers.stackoverflow.com?utm_source=stackoverflow.com&utm_medium=site-ui&utm_campaign=multicollider',\n",
       " u'/tour',\n",
       " u'/help',\n",
       " u'//meta.stackoverflow.com',\n",
       " u'/questions',\n",
       " u'/tags',\n",
       " u'/users',\n",
       " u'/help/badges',\n",
       " u'/unanswered',\n",
       " u'/questions/ask',\n",
       " u'http://chemistry.stackexchange.com/questions/40058/photochemistry-of-beta-gamma-unsaturated-ketones',\n",
       " u'http://mathoverflow.net/questions/222376/argument-of-zariski-density-to-prove-rationality-of-a-regular-map',\n",
       " u'http://worldbuilding.stackexchange.com/questions/28844/how-many-major-cities-would-need-to-be-destroyed-by-nuclear-strikes-to-completel',\n",
       " u'http://academia.stackexchange.com/questions/57314/choose-journal-before-writing-paper',\n",
       " u'http://scifi.stackexchange.com/questions/106610/looking-for-a-futuristic-story-about-american-football',\n",
       " u'http://movies.stackexchange.com/questions/42848/in-back-to-the-future-how-did-marty-get-the-timing-right-with-the-lightning-str',\n",
       " u'http://mathematica.stackexchange.com/questions/98419/incomplete-elliptic-integral-of-first-kind',\n",
       " u'http://physics.stackexchange.com/questions/215997/what-is-the-smallest-item-for-which-gravity-has-been-recorded-or-observed',\n",
       " u'http://academia.stackexchange.com/questions/57286/how-to-deal-with-classmate-who-refuses-to-acknowledge-self-plagiarism-on-group-p',\n",
       " u'http://cs.stackexchange.com/questions/48977/when-to-use-djikstra-or-bellman-kallaba-algorithm',\n",
       " u'http://skeptics.stackexchange.com/questions/30599/have-islamic-prayers-been-introduced-into-ontario-public-schools-while-christian',\n",
       " u'http://security.stackexchange.com/questions/103908/is-there-any-real-value-in-hashing-salting-passwords',\n",
       " u'http://politics.stackexchange.com/questions/9184/why-would-governments-legalize-marijuana',\n",
       " u'http://codegolf.stackexchange.com/questions/62350/halloween-golf-the-2spooky4me-challenge',\n",
       " u'http://bicycles.stackexchange.com/questions/35338/super-heavyweight-biker-keeps-destroying-dutch-bikes',\n",
       " u'http://askubuntu.com/questions/692599/how-to-make-open-in-terminal-in-the-right-click-menu-use-terminator-instead-gn',\n",
       " u'http://mathoverflow.net/questions/222403/arithmetical-results-to-help-study-arithmetic-geometry',\n",
       " u'http://programmers.stackexchange.com/questions/301400/why-is-the-git-git-objects-folder-subdivided-in-many-sha-prefix-folders',\n",
       " u'http://unix.stackexchange.com/questions/240146/why-tmux-sets-term-variable-to-screen',\n",
       " u'http://scifi.stackexchange.com/questions/106582/harry-potter-why-7',\n",
       " u'http://electronics.stackexchange.com/questions/198428/general-question-about-analog-and-digital-signals',\n",
       " u'http://academia.stackexchange.com/questions/57042/students-staying-hours-past-end-of-office-hours',\n",
       " u'http://codegolf.stackexchange.com/questions/62476/sort-this-quick',\n",
       " u'http://scifi.stackexchange.com/questions/106203/what-is-the-latest-date-for-the-setting-in-a-sci-fi-text-or-movie']"
      ]
     },
     "execution_count": 6,
     "metadata": {},
     "output_type": "execute_result"
    }
   ],
   "source": [
    "response.xpath('//ul/li/a/@href').extract()"
   ]
  },
  {
   "cell_type": "markdown",
   "metadata": {
    "collapsed": true
   },
   "source": [
    "## Scrapy shell\n",
    "\n",
    "In a command window/ terminal window\n",
    "\n",
    "go to the tutorial project directory and type \n",
    "scrapy shell \"http://www.dmoz.org/Computers/Programming/Languages/Python/Books/\"\n",
    "\n",
    "Try running the crawler to see the response using\n",
    "scrapy crawl dmoz "
   ]
  },
  {
   "cell_type": "markdown",
   "metadata": {},
   "source": [
    "Let's try an example crawler that creates a csv from:\n",
    "\n",
    "https://github.com/mjhea0/Scrapy-Samples/tree/master/crawlspider\n",
    "    \n",
    "I cloned the code as part of the code directory code/Scrapy-Samples-master\n",
    "and added a parent URL in the output csv file it can be run by using:\n",
    "\n",
    "cd to the code/Scrapy-Samples-master/crawlspider \n",
    "and run:\n",
    "scrapy crawl craigs -o items.csv -t csv\n",
    "\n",
    "Sample 20 lines from the csv file.."
   ]
  },
  {
   "cell_type": "code",
   "execution_count": null,
   "metadata": {},
   "outputs": [],
   "source": [
    "# %load -r 1-20  code/Scrapy-Samples-master/crawlspider/items.csv\n",
    "link,parent,title\n",
    "/pen/npo/5295330281.html,http://sfbay.craigslist.org/search/npo?s=100,Residential Counselor: 8am-1pm M-F\n",
    "/sby/npo/5295329495.html,http://sfbay.craigslist.org/search/npo?s=100,Residential Counselor-Teen Group Home: Graveyard\n",
    "/pen/npo/5295329005.html,http://sfbay.craigslist.org/search/npo?s=100,Residential Counselor: Teen Group Home (sexually exploited) Graveyard\n",
    "/pen/npo/5295328420.html,http://sfbay.craigslist.org/search/npo?s=100,Residential Counselor: Teen Group Home (sexually exploited) Graveyard\n",
    "/pen/npo/5295319941.html,http://sfbay.craigslist.org/search/npo?s=100,Open House 11/5 9am-12pm! Residential Counselor: Teen Group Home\n",
    "/sby/npo/5295318633.html,http://sfbay.craigslist.org/search/npo?s=100,Open House 11/5 9am-12pm! Residential Counselor: Teen Group Home\n",
    "/sby/npo/5295314523.html,http://sfbay.craigslist.org/search/npo?s=100,Open House! Residential Counselor: Teen Group Home\n",
    "/pen/npo/5295313019.html,http://sfbay.craigslist.org/search/npo?s=100,Open House! Residential Counselor: Teen Group Home\n",
    "/nby/npo/5293967692.html,http://sfbay.craigslist.org/search/npo?s=100,\"Mental Health: part-time Care Manager, Sun-Wed\"\n",
    "/eby/npo/5293356884.html,http://sfbay.craigslist.org/search/npo?s=100,Executive Assistant for Progressive Organizations - Full or Part Time\n",
    "/sfc/npo/5293340020.html,http://sfbay.craigslist.org/search/npo?s=100,Curriculum & Instruction Director - Level Playing Field Institute\n",
    "/sfc/npo/5293326898.html,http://sfbay.craigslist.org/search/npo?s=100,Site Director - Level Playing Field\n",
    "/nby/npo/5293324327.html,http://sfbay.craigslist.org/search/npo?s=100,Residential Treatment Evening/Weekend Supervisor\n",
    "/nby/npo/5293323754.html,http://sfbay.craigslist.org/search/npo?s=100,Group Counselor\n",
    "/eby/npo/5293294634.html,http://sfbay.craigslist.org/search/npo?s=100,Job Developer / Vocational Counselor\n",
    "/nby/npo/5293293327.html,http://sfbay.craigslist.org/search/npo?s=100,Counselor / Case Managers\n",
    "/nby/npo/5293292799.html,http://sfbay.craigslist.org/search/npo?s=100,Assistant Program Director\n",
    "/sfc/npo/5293292256.html,http://sfbay.craigslist.org/search/npo?s=100,PROGRAM MANAGER\n",
    "/nby/npo/5293291685.html,http://sfbay.craigslist.org/search/npo?s=100,Licensed Therapist - Part Time"
   ]
  },
  {
   "cell_type": "code",
   "execution_count": 15,
   "metadata": {},
   "outputs": [],
   "source": []
  },
  {
   "cell_type": "markdown",
   "metadata": {},
   "source": [
    "\n",
    "        I am including implmentations of page rank and hits from\n",
    "    https://cs7083.wordpress.com/2013/01/31/demystifying-the-pagerank-and-hits-algorithms/"
   ]
  },
  {
   "cell_type": "code",
   "execution_count": 31,
   "metadata": {},
   "outputs": [],
   "source": [
    "from numpy import *\n",
    " \n",
    "def pagerank(H):\n",
    "    n= len(H)\n",
    "    w = zeros(n)\n",
    "    rho = 1./n * ones(n);\n",
    "    for i in range(n):\n",
    "      if multiply.reduce(H[i]== zeros(n)):\n",
    "        w[i] = 1\n",
    "    newH = H + outer((1./n * w),ones(n))\n",
    " \n",
    "    theta=0.85\n",
    "    G = (theta * newH) + ((1-theta) * outer(1./n * ones(n), ones(n)))\n",
    "    print rho\n",
    "    for j in range(10):\n",
    "        rho = dot(rho,G)\n",
    "        print rho"
   ]
  },
  {
   "cell_type": "code",
   "execution_count": 32,
   "metadata": {
    "collapsed": true
   },
   "outputs": [],
   "source": [
    "def hits(A):\n",
    "    n= len(A)\n",
    "    Au= dot(transpose(A),A)\n",
    "    Hu = dot(A,transpose(A))\n",
    "    a = ones(n); h = ones(n)\n",
    "    print a,h\n",
    "    for j in range(5):\n",
    "        a = dot(a,Au)\n",
    "        a= a/sum(a)\n",
    "        h = dot(h,Hu)\n",
    "        h = h/ sum(h)\n",
    "        print a,h"
   ]
  },
  {
   "cell_type": "markdown",
   "metadata": {},
   "source": [
    "Now we would need to create the Stostic matrix to perfrom the analyis\n",
    "<img src=\"https://cs7083.files.wordpress.com/2013/01/b.png\">\n",
    "Now we would need to create the Stostic matrix to perfrom the analyis\n",
    "<img src=\"https://cs7083.files.wordpress.com/2013/01/a.png\">"
   ]
  },
  {
   "cell_type": "markdown",
   "metadata": {},
   "source": [
    "H2= array([[0, 1./2, 0, 0,1./2, 0], [0, 0, 1, 0, 0, 0],[ 1./3,1./3,0, 1./3, 0,0],[1./2, 0, 0, 0,1./2, 0],[1./2, 0, 0,1./2, 0,0],[0, 1./2 ,1./2,0,0,0]])"
   ]
  },
  {
   "cell_type": "code",
   "execution_count": 35,
   "metadata": {
    "collapsed": true
   },
   "outputs": [],
   "source": [
    "H2= array([[0, 1./2, 0, 0,1./2, 0], [0, 0, 1, 0, 0, 0],[ 1./3,1./3,0, 1./3, 0,0],[1./2, 0, 0, 0,1./2, 0],[1./2, 0, 0,1./2, 0,0],[0, 1./2 ,1./2,0,0,0]])"
   ]
  },
  {
   "cell_type": "code",
   "execution_count": 36,
   "metadata": {},
   "outputs": [
    {
     "name": "stdout",
     "output_type": "stream",
     "text": [
      "[ 0.16666667  0.16666667  0.16666667  0.16666667  0.16666667  0.16666667]\n",
      "[ 0.21388889  0.21388889  0.2375      0.14305556  0.16666667  0.025     ]\n",
      "[ 0.22392361  0.19381944  0.21743056  0.163125    0.17670139  0.025     ]\n",
      "[ 0.23103154  0.19239786  0.20037153  0.16170341  0.18949566  0.025     ]\n",
      "[ 0.23103154  0.19058534  0.19916318  0.16230759  0.19191236  0.025     ]\n",
      "[ 0.23197304  0.19024297  0.19762254  0.16299232  0.19216913  0.025     ]\n",
      "[ 0.23193667  0.1902066   0.19733153  0.16266493  0.19286028  0.025     ]\n",
      "[ 0.23200881  0.19010868  0.19730061  0.16287622  0.19270568  0.025     ]\n",
      "[ 0.23202414  0.19013058  0.19721738  0.16280175  0.19282614  0.025     ]\n",
      "[ 0.23202011  0.19011352  0.197236    0.16282937  0.19280101  0.025     ]\n",
      "[ 0.23202644  0.19011708  0.19722149  0.16282396  0.19281103  0.025     ]\n"
     ]
    }
   ],
   "source": [
    "pagerank(H2)"
   ]
  },
  {
   "cell_type": "code",
   "execution_count": 37,
   "metadata": {},
   "outputs": [
    {
     "name": "stdout",
     "output_type": "stream",
     "text": [
      "[ 1.  1.  1.  1.  1.  1.] [ 1.  1.  1.  1.  1.  1.]\n",
      "[ 0.26923077  0.26923077  0.11538462  0.19230769  0.15384615  0.        ] [ 0.16666667  0.06666667  0.26666667  0.16666667  0.16666667  0.16666667]\n",
      "[ 0.28378378  0.27027027  0.08783784  0.20945946  0.14864865  0.        ] [ 0.16666667  0.04166667  0.29166667  0.16666667  0.18452381  0.14880952]\n",
      "[ 0.29205607  0.26635514  0.0771028   0.21728972  0.14719626  0.        ] [ 0.16356108  0.03312629  0.30020704  0.16977226  0.19461698  0.13871636]\n",
      "[ 0.29650462  0.26355966  0.0723182   0.22097228  0.14664524  0.        ] [ 0.16131335  0.0296217   0.30371163  0.17201999  0.19985724  0.13347609]\n",
      "[ 0.29880066  0.26199338  0.07003033  0.22277364  0.14640199  0.        ] [ 0.16004659  0.02801275  0.30532058  0.17328675  0.20252544  0.1308079 ]\n"
     ]
    }
   ],
   "source": [
    "#For the HIT algorithm we only need the connectivity graph\n",
    "A2 = array([[0, 1, 0, 0,1, 0], [0, 0, 1, 0, 0, 0],[ 1,1,0, 1, 0,0],  [1,0,0,0,1,0], [1,0, 0,1, 0, 0],[0,1,1,0,0,0]])\n",
    "hits(A2)"
   ]
  },
  {
   "cell_type": "code",
   "execution_count": null,
   "metadata": {
    "collapsed": true
   },
   "outputs": [],
   "source": []
  }
 ],
 "metadata": {
  "kernelspec": {
   "display_name": "Python 2",
   "language": "python",
   "name": "python2"
  },
  "language_info": {
   "codemirror_mode": {
    "name": "ipython",
    "version": 2
   },
   "file_extension": ".py",
   "mimetype": "text/x-python",
   "name": "python",
   "nbconvert_exporter": "python",
   "pygments_lexer": "ipython2",
   "version": "2.7.13"
  }
 },
 "nbformat": 4,
 "nbformat_minor": 1
}
